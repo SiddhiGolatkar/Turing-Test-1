{
 "cells": [
  {
   "cell_type": "markdown",
   "id": "e2d7aa91-d8dd-4765-99d6-94621086db17",
   "metadata": {},
   "source": [
    "### 2. Get the longest common substring (prefix) in a given python list.\n",
    "\n",
    "**Write a Python function to get the longest common substring in a given python list.**\n",
    "* Example1: input_string_lst = ['flower','flow','flaunt']\n",
    " **Expected output is : 'fl'   As fl is common among all substrings.**\n",
    "\n",
    "* Example2: input_string_lst = ['flower','flow','flaunt',\"\"]\n",
    " **Expected output is : ''   Due to empty  string longest common substring is \"\".**"
   ]
  },
  {
   "cell_type": "code",
   "execution_count": 3,
   "id": "654361e5-5ce0-42d7-a033-5904fe1ab04d",
   "metadata": {},
   "outputs": [],
   "source": [
    "list1 = [\"flower\",\"flow\",\"flight\"]"
   ]
  },
  {
   "cell_type": "code",
   "execution_count": 4,
   "id": "3c33a0d2-0dff-4d05-9b83-7e2d156fcb7c",
   "metadata": {},
   "outputs": [],
   "source": [
    "def LCP(list1):\n",
    "    list1.sort()\n",
    "    first_word = list1[0]\n",
    "    last_word = list1[-1]\n",
    "\n",
    "    result = ''\n",
    "    for index in range(len(first_word)):\n",
    "        if first_word[index] != last_word[index]:\n",
    "            break\n",
    "        result += first_word[index]\n",
    "    return result  "
   ]
  },
  {
   "cell_type": "code",
   "execution_count": 5,
   "id": "7fdc74e1-9391-41cf-817f-2d53d60dd91c",
   "metadata": {},
   "outputs": [
    {
     "data": {
      "text/plain": [
       "'fl'"
      ]
     },
     "execution_count": 5,
     "metadata": {},
     "output_type": "execute_result"
    }
   ],
   "source": [
    "LCP(list1)"
   ]
  },
  {
   "cell_type": "code",
   "execution_count": 6,
   "id": "cb5618c4-bc7d-45e0-9206-c288ce8fd251",
   "metadata": {},
   "outputs": [],
   "source": [
    "list2 = ['dog', 'cat', 'cars']"
   ]
  },
  {
   "cell_type": "code",
   "execution_count": 7,
   "id": "c174eca5-4cc0-49e2-b6c1-34b4522b6881",
   "metadata": {},
   "outputs": [
    {
     "data": {
      "text/plain": [
       "''"
      ]
     },
     "execution_count": 7,
     "metadata": {},
     "output_type": "execute_result"
    }
   ],
   "source": [
    "LCP(list2)"
   ]
  },
  {
   "cell_type": "code",
   "execution_count": 8,
   "id": "0c381032-fc16-4ca3-b60c-280d6ad2eef2",
   "metadata": {},
   "outputs": [],
   "source": [
    "list3 = ['a', 'apps', 'apple']"
   ]
  },
  {
   "cell_type": "code",
   "execution_count": 9,
   "id": "2959ac81-4e79-4b69-a4bd-fa39ff9e55e0",
   "metadata": {},
   "outputs": [
    {
     "data": {
      "text/plain": [
       "'a'"
      ]
     },
     "execution_count": 9,
     "metadata": {},
     "output_type": "execute_result"
    }
   ],
   "source": [
    "LCP(list3)"
   ]
  },
  {
   "cell_type": "code",
   "execution_count": null,
   "id": "78bb5c9f-ab0c-423a-85b0-1c438297edf3",
   "metadata": {},
   "outputs": [],
   "source": []
  },
  {
   "cell_type": "code",
   "execution_count": null,
   "id": "30182058-1f63-4f3f-913c-2e03e9a79079",
   "metadata": {},
   "outputs": [],
   "source": []
  },
  {
   "cell_type": "code",
   "execution_count": null,
   "id": "7efaed13-6ced-459b-93b0-1935be2a3b48",
   "metadata": {},
   "outputs": [],
   "source": []
  },
  {
   "cell_type": "code",
   "execution_count": null,
   "id": "366f65c4-364f-4002-9331-ad162fa148aa",
   "metadata": {},
   "outputs": [],
   "source": []
  },
  {
   "cell_type": "code",
   "execution_count": null,
   "id": "03a89e74-078e-4f5d-8613-1450e1dc1a9b",
   "metadata": {},
   "outputs": [],
   "source": []
  }
 ],
 "metadata": {
  "kernelspec": {
   "display_name": "Python 3 (ipykernel)",
   "language": "python",
   "name": "python3"
  },
  "language_info": {
   "codemirror_mode": {
    "name": "ipython",
    "version": 3
   },
   "file_extension": ".py",
   "mimetype": "text/x-python",
   "name": "python",
   "nbconvert_exporter": "python",
   "pygments_lexer": "ipython3",
   "version": "3.12.4"
  }
 },
 "nbformat": 4,
 "nbformat_minor": 5
}
