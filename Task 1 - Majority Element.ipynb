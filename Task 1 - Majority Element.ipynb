{
 "cells": [
  {
   "cell_type": "markdown",
   "id": "3fa15a81-fe75-4d29-8464-b39281379a05",
   "metadata": {},
   "source": [
    "## Questions on Python Function\n",
    "#### Questions and the evaluation criterion in each questions..\n",
    "\n",
    "- Q1 : Majority Element : Conditional selection, Loops and functions\n",
    "- Q2 : Longest Common substring\n",
    "- Q3 : Find Unique Email : Pandas and dataframe operations\n",
    "- Q4 : Object Oriented Programing\n",
    "- Q5 : File Operation : Read/write operations\n",
    "- Q6 : Flask API : Get and Post methods\n",
    "- Q7 : Handling Error in API : Error handling, request module, Handling json content."
   ]
  },
  {
   "cell_type": "markdown",
   "id": "811df09e-2468-42d8-80c1-6d7388271a90",
   "metadata": {},
   "source": [
    "### 1. Write a python function that find the majority element.\n",
    "\n",
    "The majority element is the element that appears more than ⌊n / 2⌋ times. You may assume that the majority element always exists in the array.\n",
    "\n",
    "- Example 1:\n",
    "\n",
    "Input: nums = [3,2,3] Output: 3\n",
    "\n",
    "- Example 2:\n",
    "\n",
    "Input: nums = [2,2,1,1,1,2,2] Output: 2"
   ]
  },
  {
   "cell_type": "code",
   "execution_count": 34,
   "id": "3d055206-bfeb-4a46-8441-0b0a77d54817",
   "metadata": {},
   "outputs": [
    {
     "name": "stdout",
     "output_type": "stream",
     "text": [
      "3\n",
      "2\n"
     ]
    }
   ],
   "source": [
    "# sol 1\n",
    "\n",
    "nums = [3,2,3]\n",
    "num2 = [2,2,1,1,1,2,2]\n",
    "\n",
    "import statistics\n",
    "\n",
    "print(statistics.mode(nums))\n",
    "print(statistics.mode(num2))"
   ]
  },
  {
   "cell_type": "code",
   "execution_count": 35,
   "id": "e665892e-3413-4590-80a0-d652f39ded2e",
   "metadata": {},
   "outputs": [
    {
     "name": "stdout",
     "output_type": "stream",
     "text": [
      "3\n",
      "2\n"
     ]
    }
   ],
   "source": [
    "# sol 2\n",
    "\n",
    "nums = [3,2,3]\n",
    "num2 = [2,2,1,1,1,2,2]\n",
    "\n",
    "print(max(nums, key = nums.count))\n",
    "print(max(num2, key = num2.count))"
   ]
  },
  {
   "cell_type": "code",
   "execution_count": 36,
   "id": "6b4e91ac-2fcc-4117-8a61-3a5a9936257b",
   "metadata": {},
   "outputs": [
    {
     "name": "stdout",
     "output_type": "stream",
     "text": [
      "3\n",
      "2\n"
     ]
    }
   ],
   "source": [
    "# sol 3\n",
    "\n",
    "nums = [3,2,3]\n",
    "num2 = [2,2,1,1,1,2,2]\n",
    "\n",
    "from collections import Counter\n",
    "\n",
    "def frequency(num):\n",
    "    result = Counter(num)\n",
    "    return result.most_common(1)[0][0]\n",
    "\n",
    "print(frequency(nums))\n",
    "print(frequency(num2))"
   ]
  },
  {
   "cell_type": "code",
   "execution_count": 37,
   "id": "6ec5edf6-95ad-4de9-8050-b3f3fcc9b4a5",
   "metadata": {},
   "outputs": [
    {
     "name": "stdout",
     "output_type": "stream",
     "text": [
      "3\n",
      "2\n"
     ]
    }
   ],
   "source": [
    "# sol 4\n",
    "\n",
    "nums = [3,4,3]\n",
    "num2 = [2,2,1,1,1,2,2]\n",
    "\n",
    "from operator import itemgetter\n",
    "\n",
    "def frequency(num):\n",
    "    d = {}\n",
    "    for i in num:\n",
    "        if i not in d.keys():\n",
    "            d[i] = 0\n",
    "        d[i] = d[i] + 1\n",
    "    return max(d.items(), key = itemgetter(1))[0]\n",
    "\n",
    "print(frequency(nums))\n",
    "print(frequency(num2))"
   ]
  },
  {
   "cell_type": "code",
   "execution_count": 38,
   "id": "678bcde0-dce9-4e25-acc6-75386edcfd2d",
   "metadata": {},
   "outputs": [
    {
     "name": "stdout",
     "output_type": "stream",
     "text": [
      "3\n",
      "2\n"
     ]
    }
   ],
   "source": [
    "# sol  5\n",
    "\n",
    "nums = [3,4,3]\n",
    "num2 = [2,2,5,1,1,2,2]\n",
    "\n",
    "def frequency(num):\n",
    "    data = {}\n",
    "    for i in num:\n",
    "        if i not in data.keys():\n",
    "            data[i] = 0\n",
    "        data[i] = data[i] + 1\n",
    "    return max(data, key=lambda x: data[x])\n",
    "\n",
    "print(frequency(nums))\n",
    "print(frequency(num2))"
   ]
  },
  {
   "cell_type": "code",
   "execution_count": 39,
   "id": "7ff0465f-63e5-4126-b471-917bc4d3649a",
   "metadata": {},
   "outputs": [
    {
     "name": "stdout",
     "output_type": "stream",
     "text": [
      "3\n",
      "2\n"
     ]
    }
   ],
   "source": [
    "# sol 6\n",
    "\n",
    "nums = [3,4,3]\n",
    "num2 = [2,2,5,1,1,2,2]\n",
    "\n",
    "def frequency(num):\n",
    "    data = {}\n",
    "    for i in num:\n",
    "        if i not in data.keys():\n",
    "            data[i] = 0\n",
    "        data[i] = data[i] + 1\n",
    "    #print(data)\n",
    "\n",
    "    result = max([data[i] for i in data])\n",
    "    \n",
    "    for key,value in data.items():\n",
    "        if value == result:\n",
    "            return key\n",
    "\n",
    "print(frequency(nums))\n",
    "print(frequency(num2))"
   ]
  },
  {
   "cell_type": "code",
   "execution_count": null,
   "id": "9263fbbc-6239-4390-97e1-262f32f2e2f3",
   "metadata": {},
   "outputs": [],
   "source": []
  },
  {
   "cell_type": "code",
   "execution_count": null,
   "id": "c43fc023-ec0d-4f66-ac86-94cd10ab9191",
   "metadata": {},
   "outputs": [],
   "source": []
  },
  {
   "cell_type": "code",
   "execution_count": null,
   "id": "11f2b49d-46d9-430f-9e87-14d567c63501",
   "metadata": {},
   "outputs": [],
   "source": []
  },
  {
   "cell_type": "code",
   "execution_count": null,
   "id": "7b5c19f7-bc5b-4366-8654-84a3bc39b8c1",
   "metadata": {},
   "outputs": [],
   "source": []
  },
  {
   "cell_type": "code",
   "execution_count": null,
   "id": "5a3a8199-e9ce-4174-81dc-6ea36b2f2949",
   "metadata": {},
   "outputs": [],
   "source": []
  },
  {
   "cell_type": "code",
   "execution_count": null,
   "id": "98e7608d-7bc2-4206-bcc5-6352c4bd7cb3",
   "metadata": {},
   "outputs": [],
   "source": []
  },
  {
   "cell_type": "code",
   "execution_count": null,
   "id": "8d92b515-5b36-4502-a973-fe3b697209e2",
   "metadata": {},
   "outputs": [],
   "source": []
  },
  {
   "cell_type": "code",
   "execution_count": null,
   "id": "343adde5-dcda-4503-87df-acfb3a42fd9b",
   "metadata": {},
   "outputs": [],
   "source": []
  },
  {
   "cell_type": "code",
   "execution_count": null,
   "id": "f7ce53fd-4944-4349-b9f9-1fdd4c28bba0",
   "metadata": {},
   "outputs": [],
   "source": []
  },
  {
   "cell_type": "code",
   "execution_count": null,
   "id": "0bbdce1c-7341-4b3c-90fe-991df4191fb9",
   "metadata": {},
   "outputs": [],
   "source": []
  }
 ],
 "metadata": {
  "kernelspec": {
   "display_name": "Python 3 (ipykernel)",
   "language": "python",
   "name": "python3"
  },
  "language_info": {
   "codemirror_mode": {
    "name": "ipython",
    "version": 3
   },
   "file_extension": ".py",
   "mimetype": "text/x-python",
   "name": "python",
   "nbconvert_exporter": "python",
   "pygments_lexer": "ipython3",
   "version": "3.12.4"
  }
 },
 "nbformat": 4,
 "nbformat_minor": 5
}
