{
 "cells": [
  {
   "cell_type": "markdown",
   "id": "81a93e47-c13c-4dd9-aa93-4e190b945a65",
   "metadata": {},
   "source": [
    "### - Airbnb Dataset "
   ]
  },
  {
   "cell_type": "markdown",
   "id": "2f7a62f0-62a9-4a02-9ced-e3cce1de5797",
   "metadata": {},
   "source": [
    "https://colab.research.google.com/drive/1IwyaZuTccboR8huyWcxHKACTyFQBvHp5?usp=drive_link#scrollTo=dNNn0z7oFlVM"
   ]
  },
  {
   "cell_type": "markdown",
   "id": "999dc71d-c09f-4fd0-b36f-9a9efd8ad457",
   "metadata": {},
   "source": [
    "### Python Coding"
   ]
  },
  {
   "cell_type": "markdown",
   "id": "77bae093-12da-443e-a2b0-149763779bbe",
   "metadata": {},
   "source": [
    "https://leetcode.com/problems/product-of-array-except-self/description/"
   ]
  },
  {
   "cell_type": "markdown",
   "id": "ac1336fa-b1a4-48b9-8829-72be07fbbaa3",
   "metadata": {},
   "source": [
    "Given a string s and an integer k, return the maximum number of vowel letters in any substring of s with length k.\n",
    "\n",
    "Vowel letters in English are 'a', 'e', 'i', 'o', and 'u'.\n",
    " \n",
    "Example 1:\n",
    "\n",
    "Input: s = \"abciiidef\", k = 3\n",
    "\n",
    "Output: 3\n",
    "\n",
    "Explanation: The substring \"iii\" contains 3 vowel letters.\n",
    "\n",
    "Example 2:\n",
    "\n",
    "Input: s = \"aeiou\", k = 2\n",
    "\n",
    "Output: 2\n",
    "\n",
    "Explanation: Any substring of length 2 contains 2 vowels.\n",
    "\n",
    "Example 3:\n",
    "\n",
    "Input: s = \"leetcode\", k = 3\n",
    "\n",
    "Output: 2\n",
    "\n",
    "Explanation: \"lee\", \"eet\" and \"ode\" contain 2 vowels.\n",
    " \n",
    "Constraints:\n",
    "\n",
    "1 <= s.length <= 105\n",
    "\n",
    "s consists of lowercase English letters.\n",
    "\n",
    "1 <= k <= s.length"
   ]
  },
  {
   "cell_type": "code",
   "execution_count": 3,
   "id": "c7e1b154-2f27-4b44-ba5d-33b6f7892362",
   "metadata": {},
   "outputs": [
    {
     "name": "stdin",
     "output_type": "stream",
     "text": [
      " abciiidef\n",
      " 3\n"
     ]
    }
   ],
   "source": [
    "import textwrap\n",
    "import re\n",
    "\n",
    "string = input()\n",
    "k = int(input())\n",
    "\n",
    "def countmaxvowels(string,k):\n",
    "    string = string.lower()\n",
    "    vovels = r'[aeiou]'\n",
    "    res = textwrap.wrap(string,k)\n",
    "    result = []\n",
    "    for substring in res:\n",
    "        count = len(re.findall(vovels, substring))\n",
    "        result.append(count)\n",
    "    return max(result)\n",
    "    "
   ]
  },
  {
   "cell_type": "code",
   "execution_count": 4,
   "id": "4ca8d9e2-598f-4d22-89f4-964241a758c5",
   "metadata": {},
   "outputs": [
    {
     "data": {
      "text/plain": [
       "3"
      ]
     },
     "execution_count": 4,
     "metadata": {},
     "output_type": "execute_result"
    }
   ],
   "source": [
    "countmaxvowels('abciiidef', 3)"
   ]
  },
  {
   "cell_type": "markdown",
   "id": "994fca5b-b25d-4413-91e5-7eb560bee523",
   "metadata": {},
   "source": [
    "Given an integer array nums, return an array answer such that answer[i] is equal to the product of all the elements of nums except nums[i].\n",
    "\n",
    "The product of any prefix or suffix of nums is guaranteed to fit in a 32-bit integer.\n",
    "\n",
    "You must write an algorithm that runs in O(n) time and without using the division operation.\n",
    " \n",
    "Example 1:\n",
    "\n",
    "Input: nums = [1,2,3,4]\n",
    "\n",
    "Output: [24,12,8,6]\n",
    "\n",
    "Example 2:\n",
    "\n",
    "Input: nums = [-1,1,0,-3,3]\n",
    "\n",
    "Output: [0,0,9,0,0]\n",
    " \n",
    "Constraints:\n",
    "\n",
    "2 <= nums.length <= 105\n",
    "\n",
    "-30 <= nums[i] <= 30\n",
    "\n",
    "The product of any prefix or suffix of nums is guaranteed to fit in a 32-bit integer.\n",
    " \n",
    "Follow up: Can you solve the problem in O(1) extra space complexity? (The output array does not count as extra space for space complexity analysis.)"
   ]
  },
  {
   "cell_type": "code",
   "execution_count": 5,
   "id": "f07c80c7-7f53-46a4-b425-6ed42d86faf6",
   "metadata": {},
   "outputs": [],
   "source": [
    "nums = [1,2,3,4]"
   ]
  },
  {
   "cell_type": "code",
   "execution_count": 6,
   "id": "b0d46667-5436-455c-afab-de4d3d8db248",
   "metadata": {},
   "outputs": [],
   "source": [
    "import numpy as np"
   ]
  },
  {
   "cell_type": "code",
   "execution_count": 7,
   "id": "f580e7c0-9dea-4329-9057-3b9a1097905a",
   "metadata": {},
   "outputs": [],
   "source": [
    "res = np.prod(nums)"
   ]
  },
  {
   "cell_type": "code",
   "execution_count": 8,
   "id": "93f4e0ed-bdd3-411a-b7d6-e2fb73197c51",
   "metadata": {},
   "outputs": [
    {
     "name": "stdout",
     "output_type": "stream",
     "text": [
      "24\n"
     ]
    }
   ],
   "source": [
    "result = 1\n",
    "for i in nums:\n",
    "    result = result * i\n",
    "print(result)"
   ]
  },
  {
   "cell_type": "code",
   "execution_count": 9,
   "id": "4ee5d67d-bfa8-4918-bde2-7a4df03d0e47",
   "metadata": {},
   "outputs": [
    {
     "name": "stdout",
     "output_type": "stream",
     "text": [
      "1\n",
      "2\n",
      "6\n",
      "24\n"
     ]
    }
   ],
   "source": [
    "result = 1\n",
    "for i in nums:\n",
    "    result = result * i\n",
    "    print(result)"
   ]
  },
  {
   "cell_type": "code",
   "execution_count": 10,
   "id": "db08e7ae-2d07-4f49-9367-2f2d0eed0310",
   "metadata": {},
   "outputs": [],
   "source": [
    "def product(list):\n",
    "    result = 1\n",
    "    for i in list:\n",
    "        result = result * i\n",
    "    return result"
   ]
  },
  {
   "cell_type": "code",
   "execution_count": 11,
   "id": "ca81c75b-dab7-46d0-bab8-817509ed1503",
   "metadata": {},
   "outputs": [
    {
     "data": {
      "text/plain": [
       "24"
      ]
     },
     "execution_count": 11,
     "metadata": {},
     "output_type": "execute_result"
    }
   ],
   "source": [
    "product(nums)"
   ]
  },
  {
   "cell_type": "code",
   "execution_count": 12,
   "id": "af2fb199-818c-4ad2-b71c-0894be0fb4fc",
   "metadata": {},
   "outputs": [],
   "source": [
    "nums = [1,2,3,4]\n",
    "\n",
    "def product(nums):\n",
    "    result = 1\n",
    "    for i in nums:\n",
    "        result = result * i\n",
    "    return result\n",
    "\n",
    "def product_list(nums):\n",
    "    \n",
    "    res = []\n",
    "    for i in range(0, len(nums)):\n",
    "        removed_num = nums.pop(i)\n",
    "        res.append(product(nums))\n",
    "        nums.insert(i,removed_num) \n",
    "    return res"
   ]
  },
  {
   "cell_type": "code",
   "execution_count": 13,
   "id": "261fe979-77a4-4124-ab88-0bb2de3f5a39",
   "metadata": {},
   "outputs": [
    {
     "data": {
      "text/plain": [
       "[24, 12, 8, 6]"
      ]
     },
     "execution_count": 13,
     "metadata": {},
     "output_type": "execute_result"
    }
   ],
   "source": [
    "product_list([1,2,3,4])"
   ]
  },
  {
   "cell_type": "code",
   "execution_count": 14,
   "id": "78edd892-9ca8-4e96-9556-4587a42fd04f",
   "metadata": {},
   "outputs": [
    {
     "name": "stdout",
     "output_type": "stream",
     "text": [
      "[24, 12, 8, 6]\n"
     ]
    }
   ],
   "source": [
    "import numpy as np\n",
    "\n",
    "nums = [1,2,3,4]\n",
    "res = []\n",
    "for i in range(0, len(nums)):\n",
    "    removed_num = nums.pop(i)\n",
    "    res.append(np.prod(nums))\n",
    "    nums.insert(i,removed_num) \n",
    "print(res)"
   ]
  },
  {
   "cell_type": "code",
   "execution_count": 15,
   "id": "5344fcfe-c75d-4cab-82b3-711427723b17",
   "metadata": {},
   "outputs": [],
   "source": [
    "import numpy as np\n",
    "\n",
    "def product_list(list):\n",
    "    res = []\n",
    "    for i in range(0, len(list)):\n",
    "        removed_num = list.pop(i)\n",
    "        res.append(np.prod(list))\n",
    "        list.insert(i,removed_num) \n",
    "    return res"
   ]
  },
  {
   "cell_type": "code",
   "execution_count": 16,
   "id": "90dc9507-bd82-424e-bbd8-7ae5de822b3a",
   "metadata": {},
   "outputs": [
    {
     "data": {
      "text/plain": [
       "[24, 12, 8, 6]"
      ]
     },
     "execution_count": 16,
     "metadata": {},
     "output_type": "execute_result"
    }
   ],
   "source": [
    "product_list([1,2,3,4])"
   ]
  },
  {
   "cell_type": "code",
   "execution_count": 17,
   "id": "d11f121a-f1be-47bd-ab0e-8a0865a23fc8",
   "metadata": {},
   "outputs": [
    {
     "data": {
      "text/plain": [
       "[0, 0, 9, 0, 0]"
      ]
     },
     "execution_count": 17,
     "metadata": {},
     "output_type": "execute_result"
    }
   ],
   "source": [
    "product_list([-1,1,0,-3,3])"
   ]
  },
  {
   "cell_type": "code",
   "execution_count": null,
   "id": "afe1a021-8222-4bc4-8a24-ab86211876ce",
   "metadata": {},
   "outputs": [],
   "source": []
  },
  {
   "cell_type": "code",
   "execution_count": null,
   "id": "e89e8ef0-3530-4ce0-bd38-96961d737c1d",
   "metadata": {},
   "outputs": [],
   "source": []
  },
  {
   "cell_type": "code",
   "execution_count": null,
   "id": "2baa6440-f8b3-47be-9547-ef25eb3be180",
   "metadata": {},
   "outputs": [],
   "source": []
  },
  {
   "cell_type": "code",
   "execution_count": null,
   "id": "d18e404f-912d-4020-b086-c7eaac9ac60c",
   "metadata": {},
   "outputs": [],
   "source": []
  }
 ],
 "metadata": {
  "kernelspec": {
   "display_name": "Python 3 (ipykernel)",
   "language": "python",
   "name": "python3"
  },
  "language_info": {
   "codemirror_mode": {
    "name": "ipython",
    "version": 3
   },
   "file_extension": ".py",
   "mimetype": "text/x-python",
   "name": "python",
   "nbconvert_exporter": "python",
   "pygments_lexer": "ipython3",
   "version": "3.12.4"
  }
 },
 "nbformat": 4,
 "nbformat_minor": 5
}
